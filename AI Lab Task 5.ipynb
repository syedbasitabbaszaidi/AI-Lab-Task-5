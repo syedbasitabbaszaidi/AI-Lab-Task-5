{
 "cells": [
  {
   "cell_type": "markdown",
   "id": "b77e5575",
   "metadata": {},
   "source": [
    "# DFS "
   ]
  },
  {
   "cell_type": "code",
   "execution_count": 18,
   "id": "c09c7538",
   "metadata": {},
   "outputs": [
    {
     "name": "stdout",
     "output_type": "stream",
     "text": [
      "A C G F B E\n"
     ]
    }
   ],
   "source": [
    "tree = {\n",
    "    'A' : ['B', 'C'],\n",
    "    'B' : ['D', 'E'],\n",
    "    'C' : ['F', 'G'],\n",
    "    'D' : [],\n",
    "    'E' : [],\n",
    "    'F' : [],\n",
    "    'G' : []\n",
    "}\n",
    "visited = []\n",
    "stack = []\n",
    "def dfs(node,goal):\n",
    "    visited.append(node)\n",
    "    stack.append(node)\n",
    "    while stack:\n",
    "        m = stack.pop()\n",
    "        print(m , end  = \" \")\n",
    "        for i in tree[m]:\n",
    "            if i not in visited:\n",
    "                visited.append(i)\n",
    "                stack.append(i) \n",
    "                if i == goal:\n",
    "                    print(i)\n",
    "                    return\n",
    "dfs(\"A\",\"E\")"
   ]
  },
  {
   "cell_type": "markdown",
   "id": "95d43c97",
   "metadata": {},
   "source": [
    "# Inorder , preorder , postorder"
   ]
  },
  {
   "cell_type": "code",
   "execution_count": 1,
   "id": "05ce0a7a",
   "metadata": {},
   "outputs": [
    {
     "name": "stdout",
     "output_type": "stream",
     "text": [
      "1 2 4 5 3 \n",
      "4 2 5 1 3 \n",
      "4 5 2 3 1 "
     ]
    }
   ],
   "source": [
    "class Treenode:\n",
    "    def __init__(self,val = 0,left = None,right = None):\n",
    "        self.val = val\n",
    "        self.left = left\n",
    "        self.right = right\n",
    "def pre_order(node):\n",
    "    if node is None:\n",
    "        return\n",
    "    print(node.val, end = \" \")\n",
    "    pre_order(node.left)\n",
    "    pre_order(node.right)\n",
    "def in_order(node):\n",
    "    if node is None:\n",
    "        return \n",
    "    in_order(node.left)\n",
    "    print(node.val,end = \" \")\n",
    "    in_order(node.right)\n",
    "def post_order(node):\n",
    "    if node is None:\n",
    "        return\n",
    "    post_order(node.left)\n",
    "    post_order(node.right)\n",
    "    print(node.val,end = \" \")\n",
    "root = Treenode(1)\n",
    "root.left = Treenode(2)\n",
    "root.right = Treenode(3)\n",
    "root.left.left = Treenode(4)\n",
    "root.left.right = Treenode(5)\n",
    "pre_order(root)\n",
    "print()\n",
    "in_order(root)\n",
    "print()\n",
    "post_order(root)"
   ]
  },
  {
   "cell_type": "code",
   "execution_count": null,
   "id": "1673408e",
   "metadata": {},
   "outputs": [],
   "source": []
  }
 ],
 "metadata": {
  "kernelspec": {
   "display_name": "Python 3 (ipykernel)",
   "language": "python",
   "name": "python3"
  },
  "language_info": {
   "codemirror_mode": {
    "name": "ipython",
    "version": 3
   },
   "file_extension": ".py",
   "mimetype": "text/x-python",
   "name": "python",
   "nbconvert_exporter": "python",
   "pygments_lexer": "ipython3",
   "version": "3.11.5"
  }
 },
 "nbformat": 4,
 "nbformat_minor": 5
}
